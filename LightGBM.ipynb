{
 "cells": [
  {
   "cell_type": "code",
   "execution_count": 1,
   "metadata": {},
   "outputs": [],
   "source": [
    "import pandas as pd\n",
    "import numpy as np\n",
    "import time,datetime"
   ]
  },
  {
   "cell_type": "code",
   "execution_count": 2,
   "metadata": {},
   "outputs": [],
   "source": [
    "def datetime2SecondsFrom1970(timeDateStr:str):\n",
    "    time1=datetime.datetime.strptime(timeDateStr,\"%Y-%m-%d %H:%M:%S\")\n",
    "    secondsFrom1970=time.mktime(time1.timetuple())\n",
    "    return secondsFrom1970\n",
    "\n",
    "def seconds2Datetime(seconds_from_1970):\n",
    "    timeArray = time.localtime(seconds_from_1970)#1970秒数\n",
    "    otherStyleTime = time.strftime(\"%Y-%m-%d %H:%M:%S\", timeArray)\n",
    "    datetime1=datetime.datetime.strptime(otherStyleTime, \"%Y-%m-%d %H:%M:%S\")\n",
    "    return str(datetime1)\n",
    "def datetime2SecondsFrom1970_s(timeDateStr:str):\n",
    "    time1=datetime.datetime.strptime(timeDateStr,\"%Y%m%d%H%M%S\")\n",
    "    secondsFrom1970=time.mktime(time1.timetuple())\n",
    "    return int(secondsFrom1970)"
   ]
  },
  {
   "cell_type": "code",
   "execution_count": null,
   "metadata": {},
   "outputs": [],
   "source": []
  },
  {
   "cell_type": "code",
   "execution_count": 27,
   "metadata": {},
   "outputs": [
    {
     "name": "stdout",
     "output_type": "stream",
     "text": [
      "9 biger than 0: (4780, 109) equal 0: (9562, 109)\n",
      "10 biger than 0: (4759, 109) equal 0: (10244, 109)\n",
      "11 biger than 0: (4637, 109) equal 0: (10856, 109)\n",
      "12 biger than 0: (4763, 109) equal 0: (10364, 109)\n",
      "13 biger than 0: (4837, 109) equal 0: (10949, 109)\n",
      "14 biger than 0: (5090, 109) equal 0: (11247, 109)\n",
      "15 biger than 0: (5137, 109) equal 0: (12185, 109)\n",
      "16 biger than 0: (4257, 109) equal 0: (7132, 109)\n",
      "17 biger than 0: (4346, 109) equal 0: (7560, 109)\n",
      "18 biger than 0: (3511, 109) equal 0: (6561, 109)\n",
      "19 biger than 0: (4401, 109) equal 0: (8991, 109)\n"
     ]
    }
   ],
   "source": [
    "for day in range(9,20):\n",
    "    if day <10:\n",
    "        train_set_date=pd.read_csv('../Data/A_preliminary_generate/Train/ad_sample_'+'030'+str(day)+'_feature1phase_train.csv')\n",
    "    else:\n",
    "        train_set_date=pd.read_csv('../Data/A_preliminary_generate/Train/ad_sample_'+'03'+str(day)+'_feature1phase_train.csv')\n",
    "    print(day,\"biger than 0:\",train_set_date[train_set_date['exposure_times']>0].shape\n",
    "          ,\"equal 0:\",train_set_date[train_set_date['exposure_times']<=0].shape)\n"
   ]
  },
  {
   "cell_type": "code",
   "execution_count": 3,
   "metadata": {},
   "outputs": [
    {
     "name": "stderr",
     "output_type": "stream",
     "text": [
      "/home/zhangyier/anaconda3/lib/python3.6/site-packages/IPython/core/interactiveshell.py:2785: DtypeWarning: Columns (3,6) have mixed types. Specify dtype option on import or set low_memory=False.\n",
      "  interactivity=interactivity, compiler=compiler, result=result)\n"
     ]
    }
   ],
   "source": [
    "ad_static_feature=pd.read_csv(\"../Data/A_preliminary/testA/ad_static_feature.out\",header=None,sep='\\t',\n",
    "                             names=['ad_id','create_time','ad_account_id','commodity_id','commodity_type','ad_trades_id','ad_size',\n",
    "                             ])"
   ]
  },
  {
   "cell_type": "code",
   "execution_count": 66,
   "metadata": {},
   "outputs": [
    {
     "name": "stderr",
     "output_type": "stream",
     "text": [
      "/home/zhangyier/anaconda3/lib/python3.6/site-packages/ipykernel_launcher.py:1: UserWarning: Boolean Series key will be reindexed to match DataFrame index.\n",
      "  \"\"\"Entry point for launching an IPython kernel.\n"
     ]
    },
    {
     "data": {
      "text/plain": [
       "(660, 109)"
      ]
     },
     "execution_count": 66,
     "metadata": {},
     "output_type": "execute_result"
    }
   ],
   "source": [
    "train_set_3_19[:2000][train_set_3_19['exposure_times']>0].shape"
   ]
  },
  {
   "cell_type": "code",
   "execution_count": 4,
   "metadata": {},
   "outputs": [],
   "source": [
    "train_set_3_19=pd.read_csv('../Data/A_preliminary_generate/Train/ad_sample_0319_feature1phase_train.csv')\n",
    "train_set_3_19=train_set_3_19[2000:]\n",
    "valid_set_from_3_19=train_set_3_19[:2000]#设定验证集\n",
    "train_set_3_18=pd.read_csv('../Data/A_preliminary_generate/Train/ad_sample_0318_feature1phase_train.csv')\n",
    "train_set_3_17=pd.read_csv('../Data/A_preliminary_generate/Train/ad_sample_0317_feature1phase_train.csv')\n",
    "# train_set_3_17=train_set_3_17[train_set_3_17['exposure_times']>0]\n",
    "train_set_3_16=pd.read_csv('../Data/A_preliminary_generate/Train/ad_sample_0316_feature1phase_train.csv')\n",
    "# train_set_3_16=train_set_3_16[train_set_3_16['exposure_times']>0]\n",
    "train_set_3_15=pd.read_csv('../Data/A_preliminary_generate/Train/ad_sample_0315_feature1phase_train.csv')\n",
    "# train_set_3_15=train_set_3_15[train_set_3_15['exposure_times']>0]\n",
    "train_set_3_14=pd.read_csv('../Data/A_preliminary_generate/Train/ad_sample_0314_feature1phase_train.csv')\n",
    "# train_set_3_14=train_set_3_14[train_set_3_14['exposure_times']>0]\n",
    "train_set_3_13=pd.read_csv('../Data/A_preliminary_generate/Train/ad_sample_0313_feature1phase_train.csv')\n",
    "# train_set_3_13=train_set_3_13[train_set_3_13['exposure_times']>0]\n",
    "train_set_3_12=pd.read_csv('../Data/A_preliminary_generate/Train/ad_sample_0312_feature1phase_train.csv')\n",
    "# train_set_3_12=train_set_3_12[train_set_3_12['exposure_times']>0]\n",
    "train_set_3_11=pd.read_csv('../Data/A_preliminary_generate/Train/ad_sample_0311_feature1phase_train.csv')\n",
    "# train_set_3_11=train_set_3_11[train_set_3_11['exposure_times']>0]\n",
    "train_set_3_10=pd.read_csv('../Data/A_preliminary_generate/Train/ad_sample_0310_feature1phase_train.csv')\n",
    "# train_set_3_10=train_set_3_10[train_set_3_10['exposure_times']>0]\n",
    "train_set_3_09=pd.read_csv('../Data/A_preliminary_generate/Train/ad_sample_0309_feature1phase_train.csv')\n",
    "# train_set_3_09=train_set_3_09[train_set_3_09['exposure_times']>0]\n"
   ]
  },
  {
   "cell_type": "code",
   "execution_count": 5,
   "metadata": {},
   "outputs": [
    {
     "name": "stderr",
     "output_type": "stream",
     "text": [
      "/home/zhangyier/anaconda3/lib/python3.6/site-packages/pandas/core/frame.py:3694: SettingWithCopyWarning: \n",
      "A value is trying to be set on a copy of a slice from a DataFrame\n",
      "\n",
      "See the caveats in the documentation: http://pandas.pydata.org/pandas-docs/stable/indexing.html#indexing-view-versus-copy\n",
      "  errors=errors)\n"
     ]
    },
    {
     "name": "stdout",
     "output_type": "stream",
     "text": [
      "<class 'pandas.core.frame.DataFrame'>\n",
      "Int64Index: 154169 entries, 0 to 14341\n",
      "Columns: 108 entries, ad_id to week_day\n",
      "dtypes: float64(46), int64(61), object(1)\n",
      "memory usage: 128.2+ MB\n",
      "train\n",
      " None\n",
      "<class 'pandas.core.frame.DataFrame'>\n",
      "Int64Index: 154169 entries, 0 to 154168\n",
      "Columns: 110 entries, ad_id to have_create_seconds\n",
      "dtypes: float64(46), int64(63), object(1)\n",
      "memory usage: 130.6+ MB\n",
      "train\n",
      " None\n",
      "<class 'pandas.core.frame.DataFrame'>\n",
      "Int64Index: 2000 entries, 0 to 1999\n",
      "Columns: 110 entries, ad_id to have_create_seconds\n",
      "dtypes: float64(46), int64(63), object(1)\n",
      "memory usage: 1.7+ MB\n",
      "valid\n",
      " None\n"
     ]
    }
   ],
   "source": [
    "train_set=pd.concat([train_set_3_18,train_set_3_19],axis=0)\n",
    "train_set['ad_trades_id']=train_set['ad_trades_id'].apply(lambda x: int(str(x).split(',')[0]))\n",
    "#3月18,19日两天有275条样本交易行业超过一个，但是test_sample中不存在这样的样本，直接取第一个\n",
    "train_set=pd.concat([train_set,train_set_3_17],axis=0)\n",
    "train_set=pd.concat([train_set,train_set_3_16],axis=0)\n",
    "train_set=pd.concat([train_set,train_set_3_15],axis=0)\n",
    "train_set=pd.concat([train_set,train_set_3_14],axis=0)\n",
    "train_set=pd.concat([train_set,train_set_3_13],axis=0)\n",
    "train_set=pd.concat([train_set,train_set_3_12],axis=0)\n",
    "train_set=pd.concat([train_set,train_set_3_11],axis=0)\n",
    "train_set=pd.concat([train_set,train_set_3_10],axis=0)\n",
    "train_set=pd.concat([train_set,train_set_3_09],axis=0)\n",
    "train_set.drop(columns='create_time',inplace=True)\n",
    "valid_set_from_3_19.drop(columns='create_time',inplace=True)\n",
    "print('train\\n',train_set.info())\n",
    "train_set=train_set.merge(ad_static_feature[['ad_id','create_time']],on='ad_id',how='inner')\n",
    "valid_set_from_3_19=valid_set_from_3_19.merge(ad_static_feature[['ad_id','create_time']],on='ad_id',how='inner')\n",
    "train_set['have_create_seconds']=train_set['end_time']-train_set['create_time']\n",
    "valid_set_from_3_19['have_create_seconds']=valid_set_from_3_19['end_time']-valid_set_from_3_19['create_time']\n",
    "print('train\\n',train_set.info())\n",
    "print('valid\\n',valid_set_from_3_19.info())"
   ]
  },
  {
   "cell_type": "code",
   "execution_count": 6,
   "metadata": {},
   "outputs": [
    {
     "name": "stdout",
     "output_type": "stream",
     "text": [
      "154169\n",
      "154169\n",
      "<class 'pandas.core.frame.DataFrame'>\n",
      "RangeIndex: 148032 entries, 0 to 148031\n",
      "Columns: 111 entries, index to have_create_seconds\n",
      "dtypes: float64(46), int64(64), object(1)\n",
      "memory usage: 125.4+ MB\n"
     ]
    }
   ],
   "source": [
    "print(train_set.shape[0])\n",
    "train_set.drop_duplicates(inplace=True)\n",
    "print(train_set.shape[0])#去重\n",
    "train_set=train_set[(train_set['hold_time']>10800)]#持续时间需要超过三个小时的样本\n",
    "# train_set=train_set[(train_set['audience_orientation_nums']>0)]#定向人群数量为0的是有问题的\n",
    "train_set.reset_index(inplace=True)\n",
    "train_set.info()"
   ]
  },
  {
   "cell_type": "code",
   "execution_count": null,
   "metadata": {},
   "outputs": [],
   "source": []
  },
  {
   "cell_type": "code",
   "execution_count": 7,
   "metadata": {},
   "outputs": [
    {
     "name": "stderr",
     "output_type": "stream",
     "text": [
      "/home/zhangyier/anaconda3/lib/python3.6/site-packages/ipykernel_launcher.py:7: SettingWithCopyWarning: \n",
      "A value is trying to be set on a copy of a slice from a DataFrame\n",
      "\n",
      "See the caveats in the documentation: http://pandas.pydata.org/pandas-docs/stable/indexing.html#indexing-view-versus-copy\n",
      "  import sys\n",
      "/home/zhangyier/anaconda3/lib/python3.6/site-packages/ipykernel_launcher.py:13: SettingWithCopyWarning: \n",
      "A value is trying to be set on a copy of a slice from a DataFrame\n",
      "\n",
      "See the caveats in the documentation: http://pandas.pydata.org/pandas-docs/stable/indexing.html#indexing-view-versus-copy\n",
      "  del sys.path[0]\n"
     ]
    }
   ],
   "source": [
    "ad_sample_test=pd.read_csv('../Data/A_preliminary_generate/Test/ad_sample_feature1phase_test.csv')\n",
    "\n",
    "ad_sample_test['have_create_seconds']=0\n",
    "\n",
    "ad_sample_test['have_create_seconds'][\n",
    "    ad_sample_test['create_time']<=datetime2SecondsFrom1970_s('20190319235959')]=datetime2SecondsFrom1970_s('20190320235959')-ad_sample_test['create_time'][ad_sample_test['create_time']\n",
    "                                                                                                                                                 <=datetime2SecondsFrom1970_s('20190319235959')]\n",
    "#预测3月20日周三\n",
    "\n",
    "ad_sample_test['have_create_seconds'][(ad_sample_test['create_time']>datetime2SecondsFrom1970_s('20190319235959'))&\n",
    "(ad_sample_test['create_time']<=datetime2SecondsFrom1970_s('20190320235959'))]=datetime2SecondsFrom1970_s('20190321235959')-ad_sample_test['create_time'][\n",
    "(ad_sample_test['create_time']>datetime2SecondsFrom1970_s('20190319235959'))&\n",
    "(ad_sample_test['create_time']<=datetime2SecondsFrom1970_s('20190320235959'))]\n",
    "#3月21日周四\n",
    "\n",
    "ad_sample_test['have_create_seconds'][(ad_sample_test['create_time']>datetime2SecondsFrom1970_s('20190320235959'))&\n",
    "(ad_sample_test['create_time']<=datetime2SecondsFrom1970_s('20190321235959'))]=datetime2SecondsFrom1970_s('20190322235959')-ad_sample_test['create_time'][\n",
    "(ad_sample_test['create_time']>datetime2SecondsFrom1970_s('20190320235959'))&\n",
    "(ad_sample_test['create_time']<=datetime2SecondsFrom1970_s('20190321235959'))]\n",
    "#3月22日周五\n",
    "\n",
    "ad_sample_test['have_create_seconds'][(ad_sample_test['create_time']>datetime2SecondsFrom1970_s('20190321235959'))&\n",
    "(ad_sample_test['create_time']<=datetime2SecondsFrom1970_s('20190322235959'))]=datetime2SecondsFrom1970_s('20190323235959')-ad_sample_test['create_time'][\n",
    "(ad_sample_test['create_time']>datetime2SecondsFrom1970_s('20190321235959'))&\n",
    "(ad_sample_test['create_time']<=datetime2SecondsFrom1970_s('20190322235959'))]\n",
    "#3月23日周六\n",
    "\n",
    "ad_sample_test['have_create_seconds'][(ad_sample_test['create_time']>datetime2SecondsFrom1970_s('20190322235959'))&\n",
    "(ad_sample_test['create_time']<=datetime2SecondsFrom1970_s('20190323235959'))]=datetime2SecondsFrom1970_s('20190324235959')-ad_sample_test['create_time'][\n",
    "(ad_sample_test['create_time']>datetime2SecondsFrom1970_s('20190322235959'))&\n",
    "(ad_sample_test['create_time']<=datetime2SecondsFrom1970_s('20190323235959'))]\n",
    "#3月24日周日\n",
    "\n",
    "ad_sample_test['have_create_seconds'][(ad_sample_test['create_time']>datetime2SecondsFrom1970_s('20190323235959'))&\n",
    "(ad_sample_test['create_time']<=datetime2SecondsFrom1970_s('20190324235959'))]=datetime2SecondsFrom1970_s('20190325235959')-ad_sample_test['create_time'][\n",
    "(ad_sample_test['create_time']>datetime2SecondsFrom1970_s('20190323235959'))&\n",
    "(ad_sample_test['create_time']<=datetime2SecondsFrom1970_s('20190324235959'))]\n",
    "#3月25日周一\n"
   ]
  },
  {
   "cell_type": "code",
   "execution_count": 8,
   "metadata": {},
   "outputs": [],
   "source": [
    "columns_list=[\n",
    "# 'ad_id','audience_targeting','end_time','ad_account_id','commodity_id','commodity_type','ad_trades_id','ad_size','hold_time',\n",
    "#  'create_time','sample_id', 'exposure_ad_id',\n",
    " 'bid','audience_orientation_nums','0000_0030','0030_0100','0100_0130','0130_0200','0200_0230','0230_0300','0300_0330',\n",
    "'0330_0400','0400_0430','0430_0500','0500_0530','0530_0600','0600_0630','0630_0700','0700_0730','0730_0800','0800_0830','0830_0900',\n",
    "'0900_0930','0930_1000','1000_1030','1030_1100','1100_1130','1130_1200','1200_1230','1230_1300','1300_1330','1330_1400','1400_1430','1430_1500',\n",
    "'1500_1530','1530_1600','1600_1630','1630_1700','1700_1730','1730_1800','1800_1830','1830_1900','1900_1930','1930_2000','2000_2030','2030_2100',\n",
    "'2100_2130','2130_2200','2200_2230','2230_2300','2300_2330','2330_2400',\n",
    "'ad_id_history_exposure_times','ad_id_bid_mean','ad_id_bid_var','ad_id_pctr_mean','ad_id_pctr_var','ad_id_quality_ecpm_mean',\n",
    "'ad_id_quality_ecpm_var','ad_id_total_ecpm_mean','ad_id_total_ecpm_var', \n",
    "'account_id_history_exposure_times','account_id_bid_mean','account_id_bid_var','account_id_pctr_mean','account_id_pctr_var',\n",
    "'account_id_quality_ecpm_mean','account_id_quality_ecpm_var','account_id_total_ecpm_mean','account_id_total_ecpm_var',\n",
    "'commodity_id_history_exposure_times','commodity_id_bid_mean','commodity_id_bid_var','commodity_id_pctr_mean','commodity_id_pctr_var',\n",
    "'commodity_id_quality_ecpm_mean','commodity_id_quality_ecpm_var','commodity_id_total_ecpm_mean','commodity_id_total_ecpm_var',\n",
    "'commodity_type_history_exposure_times','commodity_type_bid_mean','commodity_type_bid_var','commodity_type_pctr_mean',\n",
    "'commodity_type_pctr_var','commodity_type_quality_ecpm_mean','commodity_type_quality_ecpm_var','commodity_type_total_ecpm_mean',\n",
    "'commodity_type_total_ecpm_var',\n",
    "'trades_id_history_exposure_times','trades_id_bid_mean','trades_id_bid_var','trades_id_pctr_mean','trades_id_pctr_var',\n",
    "'trades_id_quality_ecpm_mean','trades_id_quality_ecpm_var','trades_id_total_ecpm_mean','trades_id_total_ecpm_var',\n",
    "'week_day','have_create_seconds']\n",
    "\n",
    "label=train_set['exposure_times']\n",
    "train=train_set[columns_list]\n",
    "test=ad_sample_test[columns_list]\n",
    "label_validtion=valid_set_from_3_19['exposure_times']\n",
    "validtion=valid_set_from_3_19[columns_list]\n",
    "\n",
    "label_valid_array=label_validtion.values\n",
    "validtion_array=validtion.values\n",
    "train_array=train.values\n",
    "label_array=label.values\n",
    "test_array=test.values"
   ]
  },
  {
   "cell_type": "code",
   "execution_count": 9,
   "metadata": {},
   "outputs": [
    {
     "name": "stderr",
     "output_type": "stream",
     "text": [
      "/home/zhangyier/anaconda3/lib/python3.6/site-packages/sklearn/cross_validation.py:41: DeprecationWarning: This module was deprecated in version 0.18 in favor of the model_selection module into which all the refactored classes and functions are moved. Also note that the interface of the new CV iterators are different from that of this module. This module will be removed in 0.20.\n",
      "  \"This module will be removed in 0.20.\", DeprecationWarning)\n"
     ]
    }
   ],
   "source": [
    "from sklearn import preprocessing\n",
    "from sklearn.model_selection import KFold, RepeatedKFold\n",
    "import lightgbm as lgb\n",
    "from sklearn.metrics import mean_squared_error\n",
    "from sklearn.cross_validation import train_test_split"
   ]
  },
  {
   "cell_type": "code",
   "execution_count": 10,
   "metadata": {},
   "outputs": [
    {
     "name": "stdout",
     "output_type": "stream",
     "text": [
      "fold n°1\n",
      "Training until validation scores don't improve for 200 rounds.\n",
      "[200]\ttraining's rmse: 66.2414\tvalid_1's rmse: 94.4789\n",
      "[400]\ttraining's rmse: 60.6693\tvalid_1's rmse: 89.753\n",
      "[600]\ttraining's rmse: 56.5299\tvalid_1's rmse: 87.6453\n",
      "[800]\ttraining's rmse: 53.1562\tvalid_1's rmse: 86.5416\n",
      "[1000]\ttraining's rmse: 50.2172\tvalid_1's rmse: 85.8751\n",
      "[1200]\ttraining's rmse: 47.7956\tvalid_1's rmse: 85.4289\n",
      "[1400]\ttraining's rmse: 45.4206\tvalid_1's rmse: 85.0961\n",
      "[1600]\ttraining's rmse: 43.4655\tvalid_1's rmse: 84.9545\n",
      "Early stopping, best iteration is:\n",
      "[1574]\ttraining's rmse: 43.6965\tvalid_1's rmse: 84.8812\n",
      "fold n°2\n",
      "Training until validation scores don't improve for 200 rounds.\n",
      "[200]\ttraining's rmse: 72.6778\tvalid_1's rmse: 60.2975\n",
      "[400]\ttraining's rmse: 65.9523\tvalid_1's rmse: 56.8215\n",
      "[600]\ttraining's rmse: 61.4717\tvalid_1's rmse: 54.218\n",
      "[800]\ttraining's rmse: 57.7905\tvalid_1's rmse: 51.9263\n",
      "[1000]\ttraining's rmse: 54.7926\tvalid_1's rmse: 49.9978\n",
      "[1200]\ttraining's rmse: 52.3038\tvalid_1's rmse: 48.5707\n",
      "[1400]\ttraining's rmse: 49.9977\tvalid_1's rmse: 47.6111\n",
      "[1600]\ttraining's rmse: 48.0067\tvalid_1's rmse: 46.7347\n",
      "[1800]\ttraining's rmse: 46.1826\tvalid_1's rmse: 46.3304\n",
      "[2000]\ttraining's rmse: 44.5269\tvalid_1's rmse: 45.7725\n",
      "[2200]\ttraining's rmse: 43.115\tvalid_1's rmse: 45.4233\n",
      "[2400]\ttraining's rmse: 41.7157\tvalid_1's rmse: 45.2232\n",
      "[2600]\ttraining's rmse: 40.4029\tvalid_1's rmse: 44.9954\n",
      "[2800]\ttraining's rmse: 39.2278\tvalid_1's rmse: 45.044\n",
      "[3000]\ttraining's rmse: 38.0887\tvalid_1's rmse: 44.889\n",
      "[3200]\ttraining's rmse: 36.9762\tvalid_1's rmse: 44.8386\n",
      "[3400]\ttraining's rmse: 35.9619\tvalid_1's rmse: 44.6753\n",
      "[3600]\ttraining's rmse: 34.9706\tvalid_1's rmse: 44.733\n",
      "Early stopping, best iteration is:\n",
      "[3441]\ttraining's rmse: 35.7705\tvalid_1's rmse: 44.649\n",
      "fold n°3\n",
      "Training until validation scores don't improve for 200 rounds.\n",
      "[200]\ttraining's rmse: 70.1408\tvalid_1's rmse: 75.9682\n",
      "[400]\ttraining's rmse: 62.8913\tvalid_1's rmse: 73.216\n",
      "[600]\ttraining's rmse: 57.9741\tvalid_1's rmse: 71.3431\n",
      "[800]\ttraining's rmse: 54.1049\tvalid_1's rmse: 70.0492\n",
      "[1000]\ttraining's rmse: 50.9016\tvalid_1's rmse: 69.1985\n",
      "[1200]\ttraining's rmse: 48.4101\tvalid_1's rmse: 68.6131\n",
      "[1400]\ttraining's rmse: 46.0604\tvalid_1's rmse: 68.2172\n",
      "[1600]\ttraining's rmse: 43.9449\tvalid_1's rmse: 68.0712\n",
      "[1800]\ttraining's rmse: 42.3446\tvalid_1's rmse: 67.7438\n",
      "[2000]\ttraining's rmse: 40.7169\tvalid_1's rmse: 67.6108\n",
      "Early stopping, best iteration is:\n",
      "[1902]\ttraining's rmse: 41.5053\tvalid_1's rmse: 67.5252\n",
      "fold n°4\n",
      "Training until validation scores don't improve for 200 rounds.\n",
      "[200]\ttraining's rmse: 66.6015\tvalid_1's rmse: 85.8804\n",
      "[400]\ttraining's rmse: 59.0916\tvalid_1's rmse: 83.7954\n",
      "[600]\ttraining's rmse: 53.7193\tvalid_1's rmse: 83.185\n",
      "[800]\ttraining's rmse: 49.6599\tvalid_1's rmse: 83.1536\n",
      "[1000]\ttraining's rmse: 46.6542\tvalid_1's rmse: 83.6331\n",
      "Early stopping, best iteration is:\n",
      "[834]\ttraining's rmse: 49.0473\tvalid_1's rmse: 83.0445\n",
      "fold n°5\n",
      "Training until validation scores don't improve for 200 rounds.\n",
      "[200]\ttraining's rmse: 74.6687\tvalid_1's rmse: 48.4933\n",
      "[400]\ttraining's rmse: 67.1446\tvalid_1's rmse: 46.0662\n",
      "[600]\ttraining's rmse: 61.9378\tvalid_1's rmse: 44.1428\n",
      "[800]\ttraining's rmse: 57.7532\tvalid_1's rmse: 43.3333\n",
      "[1000]\ttraining's rmse: 54.5662\tvalid_1's rmse: 42.9115\n",
      "[1200]\ttraining's rmse: 51.6558\tvalid_1's rmse: 42.639\n",
      "[1400]\ttraining's rmse: 49.1325\tvalid_1's rmse: 42.5533\n",
      "[1600]\ttraining's rmse: 46.9436\tvalid_1's rmse: 42.4846\n",
      "Early stopping, best iteration is:\n",
      "[1488]\ttraining's rmse: 48.0637\tvalid_1's rmse: 42.4222\n",
      "CV score: 4490.80785971\n",
      "validation: 288.4680653943456\n"
     ]
    }
   ],
   "source": [
    "param = {'num_leaves': 120,\n",
    "         'min_data_in_leaf': 30, \n",
    "         'objective':'regression',\n",
    "         'max_depth': -1,\n",
    "         'learning_rate': 0.01,\n",
    "         \"min_child_samples\": 30,\n",
    "         \"boosting\": \"gbdt\",\n",
    "         \"feature_fraction\": 0.9,\n",
    "         \"bagging_freq\": 1,\n",
    "         \"bagging_fraction\": 0.9 ,\n",
    "         \"bagging_seed\": 11,\n",
    "         \"metric\": 'rmse',\n",
    "         \"lambda_l1\": 0.1,\n",
    "         \"verbosity\": -1}\n",
    "folds = KFold(n_splits=5, shuffle=True, random_state=2019)\n",
    "oof_lgb = np.zeros(train_array.shape[0])\n",
    "predictions_lgb = np.zeros(test_array.shape[0])\n",
    "valid_lgb=np.zeros(len(label_valid_array))\n",
    "\n",
    "for fold_, (trn_idx, val_idx) in enumerate(folds.split(train_array, label_array)):\n",
    "    print(\"fold n°{}\".format(fold_+1))\n",
    "    trn_data = lgb.Dataset(train_array[trn_idx], label_array[trn_idx])\n",
    "    val_data = lgb.Dataset(train_array[val_idx], label_array[val_idx])\n",
    "\n",
    "    num_round = 10000*(fold_+1)\n",
    "    clf = lgb.train(param, trn_data, num_round, valid_sets = [trn_data, val_data], verbose_eval=200, early_stopping_rounds = 200)\n",
    "    oof_lgb[val_idx] = clf.predict(train_array[val_idx], num_iteration=clf.best_iteration)\n",
    "    \n",
    "    predictions_lgb += clf.predict(test_array, num_iteration=clf.best_iteration) / folds.n_splits\n",
    "    valid_lgb += clf.predict(validtion_array, ntree_limit=clf.best_iteration) / folds.n_splits\n",
    "\n",
    "print(\"CV score: {:<8.8f}\".format(mean_squared_error(oof_lgb, label_array)))\n",
    "print('validation:',mean_squared_error(valid_lgb, label_valid_array))"
   ]
  },
  {
   "cell_type": "code",
   "execution_count": 11,
   "metadata": {},
   "outputs": [],
   "source": [
    "import xgboost as xgb"
   ]
  },
  {
   "cell_type": "code",
   "execution_count": 12,
   "metadata": {
    "scrolled": true
   },
   "outputs": [
    {
     "name": "stdout",
     "output_type": "stream",
     "text": [
      "fold n°1\n",
      "[0]\ttrain-rmse:94.557\tvalid_data-rmse:119.583\n",
      "Multiple eval metrics have been passed: 'valid_data-rmse' will be used for early stopping.\n",
      "\n",
      "Will train until valid_data-rmse hasn't improved in 200 rounds.\n",
      "[100]\ttrain-rmse:69.8641\tvalid_data-rmse:107.697\n",
      "[200]\ttrain-rmse:53.3071\tvalid_data-rmse:101.66\n",
      "[300]\ttrain-rmse:41.348\tvalid_data-rmse:98.0004\n",
      "[400]\ttrain-rmse:33.175\tvalid_data-rmse:95.6629\n",
      "[500]\ttrain-rmse:27.2237\tvalid_data-rmse:94.5382\n",
      "[600]\ttrain-rmse:22.7656\tvalid_data-rmse:94.0401\n",
      "[700]\ttrain-rmse:19.3385\tvalid_data-rmse:93.895\n",
      "[800]\ttrain-rmse:16.747\tvalid_data-rmse:93.9156\n",
      "[900]\ttrain-rmse:14.7625\tvalid_data-rmse:93.9665\n",
      "Stopping. Best iteration:\n",
      "[718]\ttrain-rmse:18.7788\tvalid_data-rmse:93.8413\n",
      "\n",
      "fold n°2\n",
      "[0]\ttrain-rmse:103.109\tvalid_data-rmse:86.4669\n",
      "Multiple eval metrics have been passed: 'valid_data-rmse' will be used for early stopping.\n",
      "\n",
      "Will train until valid_data-rmse hasn't improved in 200 rounds.\n",
      "[100]\ttrain-rmse:77.0622\tvalid_data-rmse:71.4555\n",
      "[200]\ttrain-rmse:58.392\tvalid_data-rmse:62.0726\n",
      "[300]\ttrain-rmse:45.0937\tvalid_data-rmse:57.7402\n",
      "[400]\ttrain-rmse:35.5753\tvalid_data-rmse:55.3788\n",
      "[500]\ttrain-rmse:28.7548\tvalid_data-rmse:54.111\n",
      "[600]\ttrain-rmse:23.6372\tvalid_data-rmse:53.1339\n",
      "[700]\ttrain-rmse:19.8698\tvalid_data-rmse:52.9155\n",
      "[800]\ttrain-rmse:17.0533\tvalid_data-rmse:52.5349\n",
      "[900]\ttrain-rmse:14.9884\tvalid_data-rmse:52.3902\n",
      "[1000]\ttrain-rmse:13.4418\tvalid_data-rmse:52.3031\n",
      "[1100]\ttrain-rmse:12.2985\tvalid_data-rmse:52.2464\n",
      "[1200]\ttrain-rmse:11.46\tvalid_data-rmse:52.231\n",
      "[1300]\ttrain-rmse:10.8527\tvalid_data-rmse:52.2187\n",
      "[1400]\ttrain-rmse:10.3861\tvalid_data-rmse:52.1429\n",
      "[1500]\ttrain-rmse:10.0197\tvalid_data-rmse:52.1343\n",
      "[1600]\ttrain-rmse:9.72709\tvalid_data-rmse:52.1529\n",
      "[1700]\ttrain-rmse:9.48489\tvalid_data-rmse:52.1512\n",
      "Stopping. Best iteration:\n",
      "[1520]\ttrain-rmse:9.95585\tvalid_data-rmse:52.1266\n",
      "\n",
      "fold n°3\n",
      "[0]\ttrain-rmse:98.5526\tvalid_data-rmse:105.715\n",
      "Multiple eval metrics have been passed: 'valid_data-rmse' will be used for early stopping.\n",
      "\n",
      "Will train until valid_data-rmse hasn't improved in 200 rounds.\n",
      "[100]\ttrain-rmse:72.1627\tvalid_data-rmse:84.9162\n",
      "[200]\ttrain-rmse:54.1501\tvalid_data-rmse:73.6969\n",
      "[300]\ttrain-rmse:41.6857\tvalid_data-rmse:68.3612\n",
      "[400]\ttrain-rmse:32.6394\tvalid_data-rmse:66.1712\n",
      "[500]\ttrain-rmse:26.0574\tvalid_data-rmse:65.6006\n",
      "[600]\ttrain-rmse:21.3942\tvalid_data-rmse:65.6179\n",
      "[700]\ttrain-rmse:17.9044\tvalid_data-rmse:66.0521\n",
      "Stopping. Best iteration:\n",
      "[520]\ttrain-rmse:25.0435\tvalid_data-rmse:65.5076\n",
      "\n",
      "fold n°4\n",
      "[0]\ttrain-rmse:97.6956\tvalid_data-rmse:109.071\n",
      "Multiple eval metrics have been passed: 'valid_data-rmse' will be used for early stopping.\n",
      "\n",
      "Will train until valid_data-rmse hasn't improved in 200 rounds.\n",
      "[100]\ttrain-rmse:71.1251\tvalid_data-rmse:89.4098\n",
      "[200]\ttrain-rmse:53.83\tvalid_data-rmse:81.9081\n",
      "[300]\ttrain-rmse:41.6603\tvalid_data-rmse:81.4928\n",
      "[400]\ttrain-rmse:33.3025\tvalid_data-rmse:84.0945\n",
      "Stopping. Best iteration:\n",
      "[250]\ttrain-rmse:47.2405\tvalid_data-rmse:81.0643\n",
      "\n",
      "fold n°5\n",
      "[0]\ttrain-rmse:105.855\tvalid_data-rmse:72.3903\n",
      "Multiple eval metrics have been passed: 'valid_data-rmse' will be used for early stopping.\n",
      "\n",
      "Will train until valid_data-rmse hasn't improved in 200 rounds.\n",
      "[100]\ttrain-rmse:77.874\tvalid_data-rmse:55.1359\n",
      "[200]\ttrain-rmse:58.6595\tvalid_data-rmse:45.8688\n",
      "[300]\ttrain-rmse:45.4549\tvalid_data-rmse:41.7765\n",
      "[400]\ttrain-rmse:36.0651\tvalid_data-rmse:40.2156\n",
      "[500]\ttrain-rmse:29.3139\tvalid_data-rmse:39.9228\n",
      "[600]\ttrain-rmse:24.1907\tvalid_data-rmse:40.2801\n",
      "Stopping. Best iteration:\n",
      "[479]\ttrain-rmse:30.6442\tvalid_data-rmse:39.8135\n",
      "\n",
      "CV score: 4794.24650324\n",
      "validation: 126.60962139878995\n"
     ]
    }
   ],
   "source": [
    "xgb_params = {'eta': 0.005, 'max_depth': 10, 'subsample': 0.8, 'colsample_bytree': 0.8,\n",
    "          'objective': 'reg:linear', 'eval_metric': 'rmse', 'silent': True, 'nthread': 10}\n",
    "folds = KFold(n_splits=5, shuffle=True, random_state=2019)\n",
    "oof_xgb = np.zeros(len(train_array))\n",
    "predictions_xgb = np.zeros(len(test_array))\n",
    "valid_xgb=np.zeros(len(label_valid_array))\n",
    "for fold_, (trn_idx, val_idx) in enumerate(folds.split(train_array, label_array)):\n",
    "    print(\"fold n°{}\".format(fold_ + 1))\n",
    "    trn_data = xgb.DMatrix(train_array[trn_idx], label_array[trn_idx])\n",
    "    val_data = xgb.DMatrix(train_array[val_idx], label_array[val_idx])\n",
    "\n",
    "    watchlist = [(trn_data, 'train'), (val_data, 'valid_data')]\n",
    "    clf = xgb.train(dtrain=trn_data, num_boost_round=20000, evals=watchlist, early_stopping_rounds=200,\n",
    "                    verbose_eval=100, params=xgb_params)\n",
    "    oof_xgb[val_idx] = clf.predict(xgb.DMatrix(train_array[val_idx]), ntree_limit=clf.best_ntree_limit)\n",
    "    predictions_xgb += clf.predict(xgb.DMatrix(test_array), ntree_limit=clf.best_ntree_limit) / folds.n_splits\n",
    "    valid_xgb += clf.predict(xgb.DMatrix(validtion_array), ntree_limit=clf.best_ntree_limit) / folds.n_splits\n",
    "\n",
    "print(\"CV score: {:<8.8f}\".format(mean_squared_error(oof_xgb, label_array)))\n",
    "print('validation:',mean_squared_error(valid_xgb, label_valid_array))"
   ]
  },
  {
   "cell_type": "code",
   "execution_count": 35,
   "metadata": {},
   "outputs": [
    {
     "data": {
      "text/plain": [
       "368"
      ]
     },
     "execution_count": 35,
     "metadata": {},
     "output_type": "execute_result"
    }
   ],
   "source": [
    "len(set(submission_csv['ad_id'][submission_csv['explosion']<0.3]))"
   ]
  },
  {
   "cell_type": "code",
   "execution_count": 38,
   "metadata": {
    "scrolled": true
   },
   "outputs": [
    {
     "name": "stdout",
     "output_type": "stream",
     "text": [
      "   sample_id   ad_id  create_time  ad_size  ad_trades_id  commodity_type  \\\n",
      "0          1  394352   1529648412       34            84              13   \n",
      "1          2  585401   1553076190       40           221               1   \n",
      "2          3  419408   1553031394       30           122              13   \n",
      "3          4  405326   1553238836       64           136               1   \n",
      "4          5  578942   1541191585       34            12              13   \n",
      "\n",
      "   commodity_id  ad_account_id  \\\n",
      "0         29663          26657   \n",
      "1            -1           6262   \n",
      "2         32110          17436   \n",
      "3            -1          22359   \n",
      "4          6372          24082   \n",
      "\n",
      "                                         when_ad_put  \\\n",
      "0  281474976645120,281474976645120,28147497664512...   \n",
      "1  281474976579587,281474976579587,28147497657958...   \n",
      "2  17592185782272,17592185782272,17592185782272,1...   \n",
      "3  281474976694272,281474976694272,28147497669427...   \n",
      "4  68719214592,68719214592,68719214592,6871921459...   \n",
      "\n",
      "                                  audience_targeting  bid  \n",
      "0  age:819,608,988,741,202,837,400,394,942,361,72...  120  \n",
      "1  age:819,433,479,741,229,347,522,79,753,601|edu...   42  \n",
      "2                                                all    6  \n",
      "3  age:333,1|gender:2|area:11505,1874,3790,4566,5...  181  \n",
      "4  age:819,608,988,741,202,837,400,394,942,361,72...   31  \n",
      "how many ad_id exposure less 1 times :\n",
      "790\n",
      "Monotonic !!!\n"
     ]
    },
    {
     "name": "stderr",
     "output_type": "stream",
     "text": [
      "/home/zhangyier/anaconda3/lib/python3.6/site-packages/ipykernel_launcher.py:9: SettingWithCopyWarning: \n",
      "A value is trying to be set on a copy of a slice from a DataFrame.\n",
      "Try using .loc[row_indexer,col_indexer] = value instead\n",
      "\n",
      "See the caveats in the documentation: http://pandas.pydata.org/pandas-docs/stable/indexing.html#indexing-view-versus-copy\n",
      "  if __name__ == '__main__':\n",
      "/home/zhangyier/anaconda3/lib/python3.6/site-packages/ipykernel_launcher.py:30: SettingWithCopyWarning: \n",
      "A value is trying to be set on a copy of a slice from a DataFrame\n",
      "\n",
      "See the caveats in the documentation: http://pandas.pydata.org/pandas-docs/stable/indexing.html#indexing-view-versus-copy\n",
      "/home/zhangyier/anaconda3/lib/python3.6/site-packages/ipykernel_launcher.py:31: SettingWithCopyWarning: \n",
      "A value is trying to be set on a copy of a slice from a DataFrame\n",
      "\n",
      "See the caveats in the documentation: http://pandas.pydata.org/pandas-docs/stable/indexing.html#indexing-view-versus-copy\n"
     ]
    }
   ],
   "source": [
    "test_sample=pd.read_csv(\"../Data/A_preliminary/testA/test_sample.dat\",header=None,sep='\\t',\n",
    "                        names=['sample_id','ad_id','create_time','ad_size','ad_trades_id','commodity_type','commodity_id','ad_account_id',\n",
    "                              'when_ad_put','audience_targeting','bid'])\n",
    "print(test_sample.head())\n",
    "submission=test_sample[['sample_id','ad_id','bid']]\n",
    "submission.insert(submission.shape[1], 'predict_exposure', predictions_xgb)\n",
    "# submission.insert(submission.shape[1], 'predict_exposure', predictions_lgb)\n",
    "\n",
    "submission['predict_exposure']=submission['predict_exposure'].apply(lambda x : round(x,4))\n",
    "ad_id_exposure_predic=submission.groupby(['ad_id'])['predict_exposure'].aggregate(['mean','max','min']).reset_index()\n",
    "ad_id_dict={}\n",
    "for ad_id,mean,min_,max_ in zip(ad_id_exposure_predic['ad_id'],ad_id_exposure_predic['mean'],ad_id_exposure_predic['min'],ad_id_exposure_predic['max']):\n",
    "#     ad_id_dict[ad_id]=mean-(max_-min_)/8\n",
    "    ad_id_dict[ad_id]=mean\n",
    "#     ad_id_dict[ad_id]=max_\n",
    "\n",
    "\n",
    "print('how many ad_id exposure less 1 times :')\n",
    "nums=0\n",
    "for _ in ad_id_dict.values():\n",
    "    if _ < 1:\n",
    "        nums+=1\n",
    "print(nums)\n",
    "\n",
    "print('Monotonic !!!')\n",
    "ad_id_explosure_df=pd.DataFrame({\"ad_id\":list(ad_id_dict.keys()),\"explosion_init\":list(ad_id_dict.values())})\n",
    "submission_csv=test_sample[['sample_id','ad_id','bid']][:]\n",
    "submission_csv=submission_csv.merge(ad_id_explosure_df,on='ad_id',how='outer')\n",
    "submission_csv['explosion']=submission_csv['explosion_init']+submission_csv['bid']/1000\n",
    "submission_csv['explosion'][submission_csv['explosion']<0.3]=0\n",
    "submission_csv['explosion'][(submission_csv['explosion']<1)&(submission_csv['explosion']>=0.3)]=1\n",
    "submission_csv['explosion']=submission_csv['explosion'].apply(lambda x:round(x,4))\n",
    "# submission_csv[['sample_id','explosion']].to_csv('submission.csv',header=None,index=None,encoding='utf-8')"
   ]
  },
  {
   "cell_type": "code",
   "execution_count": 39,
   "metadata": {},
   "outputs": [
    {
     "data": {
      "text/plain": [
       "20.05241764415967"
      ]
     },
     "execution_count": 39,
     "metadata": {},
     "output_type": "execute_result"
    }
   ],
   "source": [
    "submission_csv['explosion'].mean()"
   ]
  },
  {
   "cell_type": "code",
   "execution_count": 40,
   "metadata": {},
   "outputs": [],
   "source": [
    "submission_csv[['sample_id','explosion']].to_csv('submission.csv',header=None,index=None,encoding='utf-8')"
   ]
  },
  {
   "cell_type": "code",
   "execution_count": null,
   "metadata": {},
   "outputs": [],
   "source": []
  }
 ],
 "metadata": {
  "kernelspec": {
   "display_name": "Python 3",
   "language": "python",
   "name": "python3"
  },
  "language_info": {
   "codemirror_mode": {
    "name": "ipython",
    "version": 3
   },
   "file_extension": ".py",
   "mimetype": "text/x-python",
   "name": "python",
   "nbconvert_exporter": "python",
   "pygments_lexer": "ipython3",
   "version": "3.6.5"
  }
 },
 "nbformat": 4,
 "nbformat_minor": 2
}
