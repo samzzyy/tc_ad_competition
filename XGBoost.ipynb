{
 "cells": [
  {
   "cell_type": "code",
   "execution_count": 1,
   "metadata": {},
   "outputs": [],
   "source": [
    "import pandas as pd\n",
    "import numpy as np\n",
    "import time,datetime"
   ]
  },
  {
   "cell_type": "code",
   "execution_count": 2,
   "metadata": {},
   "outputs": [],
   "source": [
    "def datetime2SecondsFrom1970(timeDateStr:str):\n",
    "    time1=datetime.datetime.strptime(timeDateStr,\"%Y-%m-%d %H:%M:%S\")\n",
    "    secondsFrom1970=time.mktime(time1.timetuple())\n",
    "    return secondsFrom1970\n",
    "\n",
    "def seconds2Datetime(seconds_from_1970):\n",
    "    timeArray = time.localtime(seconds_from_1970)#1970秒数\n",
    "    otherStyleTime = time.strftime(\"%Y-%m-%d %H:%M:%S\", timeArray)\n",
    "    datetime1=datetime.datetime.strptime(otherStyleTime, \"%Y-%m-%d %H:%M:%S\")\n",
    "    return str(datetime1)\n",
    "def datetime2SecondsFrom1970_s(timeDateStr:str):\n",
    "    time1=datetime.datetime.strptime(timeDateStr,\"%Y%m%d%H%M%S\")\n",
    "    secondsFrom1970=time.mktime(time1.timetuple())\n",
    "    return int(secondsFrom1970)"
   ]
  },
  {
   "cell_type": "code",
   "execution_count": 3,
   "metadata": {},
   "outputs": [
    {
     "name": "stderr",
     "output_type": "stream",
     "text": [
      "/home/zhangyier/anaconda3/lib/python3.6/site-packages/IPython/core/interactiveshell.py:2785: DtypeWarning: Columns (3,6) have mixed types. Specify dtype option on import or set low_memory=False.\n",
      "  interactivity=interactivity, compiler=compiler, result=result)\n"
     ]
    }
   ],
   "source": [
    "ad_static_feature=pd.read_csv(\"../Data/A_preliminary/testA/ad_static_feature.out\",header=None,sep='\\t',\n",
    "                             names=['ad_id','create_time','ad_account_id','commodity_id','commodity_type','ad_trades_id','ad_size',\n",
    "                             ])"
   ]
  },
  {
   "cell_type": "code",
   "execution_count": 4,
   "metadata": {},
   "outputs": [],
   "source": [
    "train_set_3_19=pd.read_csv('../Data/A_preliminary_generate/Train/ad_sample_0319_feature1phase_train.csv')\n",
    "train_set_3_18=pd.read_csv('../Data/A_preliminary_generate/Train/ad_sample_0318_feature1phase_train.csv')\n",
    "train_set_3_17=pd.read_csv('../Data/A_preliminary_generate/Train/ad_sample_0317_feature1phase_train.csv')\n",
    "# train_set_3_17=train_set_3_17[train_set_3_17['exposure_times']>0]\n",
    "train_set_3_16=pd.read_csv('../Data/A_preliminary_generate/Train/ad_sample_0316_feature1phase_train.csv')\n",
    "# train_set_3_16=train_set_3_16[train_set_3_16['exposure_times']>0]\n",
    "train_set_3_15=pd.read_csv('../Data/A_preliminary_generate/Train/ad_sample_0315_feature1phase_train.csv')\n",
    "# train_set_3_15=train_set_3_15[train_set_3_15['exposure_times']>0]\n",
    "train_set_3_14=pd.read_csv('../Data/A_preliminary_generate/Train/ad_sample_0314_feature1phase_train.csv')\n",
    "# train_set_3_14=train_set_3_14[train_set_3_14['exposure_times']>0]\n",
    "train_set_3_13=pd.read_csv('../Data/A_preliminary_generate/Train/ad_sample_0313_feature1phase_train.csv')\n",
    "# train_set_3_13=train_set_3_13[train_set_3_13['exposure_times']>0]\n",
    "train_set_3_12=pd.read_csv('../Data/A_preliminary_generate/Train/ad_sample_0312_feature1phase_train.csv')\n",
    "# train_set_3_12=train_set_3_12[train_set_3_12['exposure_times']>0]\n",
    "train_set_3_11=pd.read_csv('../Data/A_preliminary_generate/Train/ad_sample_0311_feature1phase_train.csv')\n",
    "# train_set_3_11=train_set_3_11[train_set_3_11['exposure_times']>0]\n",
    "train_set_3_10=pd.read_csv('../Data/A_preliminary_generate/Train/ad_sample_0310_feature1phase_train.csv')\n",
    "# train_set_3_10=train_set_3_10[train_set_3_10['exposure_times']>0]\n",
    "train_set_3_09=pd.read_csv('../Data/A_preliminary_generate/Train/ad_sample_0309_feature1phase_train.csv')\n",
    "# train_set_3_09=train_set_3_09[train_set_3_09['exposure_times']>0]\n"
   ]
  },
  {
   "cell_type": "code",
   "execution_count": 7,
   "metadata": {},
   "outputs": [
    {
     "name": "stdout",
     "output_type": "stream",
     "text": [
      "<class 'pandas.core.frame.DataFrame'>\n",
      "Int64Index: 156169 entries, 0 to 14341\n",
      "Columns: 108 entries, ad_id to week_day\n",
      "dtypes: float64(46), int64(61), object(1)\n",
      "memory usage: 129.9+ MB\n",
      "train\n",
      " None\n",
      "<class 'pandas.core.frame.DataFrame'>\n",
      "Int64Index: 156169 entries, 0 to 156168\n",
      "Columns: 110 entries, ad_id to have_create_seconds\n",
      "dtypes: float64(46), int64(63), object(1)\n",
      "memory usage: 132.3+ MB\n",
      "train\n",
      " None\n"
     ]
    }
   ],
   "source": [
    "train_set=pd.concat([train_set_3_18,train_set_3_19],axis=0)\n",
    "train_set['ad_trades_id']=train_set['ad_trades_id'].apply(lambda x: int(str(x).split(',')[0]))\n",
    "#3月18,19日两天有275条样本交易行业超过一个，但是test_sample中不存在这样的样本，直接取第一个\n",
    "train_set=pd.concat([train_set,train_set_3_17],axis=0)\n",
    "train_set=pd.concat([train_set,train_set_3_16],axis=0)\n",
    "train_set=pd.concat([train_set,train_set_3_15],axis=0)\n",
    "train_set=pd.concat([train_set,train_set_3_14],axis=0)\n",
    "train_set=pd.concat([train_set,train_set_3_13],axis=0)\n",
    "train_set=pd.concat([train_set,train_set_3_12],axis=0)\n",
    "train_set=pd.concat([train_set,train_set_3_11],axis=0)\n",
    "train_set=pd.concat([train_set,train_set_3_10],axis=0)\n",
    "train_set=pd.concat([train_set,train_set_3_09],axis=0)\n",
    "train_set.drop(columns='create_time',inplace=True)\n",
    "print('train\\n',train_set.info())\n",
    "train_set=train_set.merge(ad_static_feature[['ad_id','create_time']],on='ad_id',how='inner')\n",
    "train_set['have_create_seconds']=train_set['end_time']-train_set['create_time']\n",
    "print('train\\n',train_set.info())"
   ]
  },
  {
   "cell_type": "code",
   "execution_count": 8,
   "metadata": {},
   "outputs": [
    {
     "name": "stdout",
     "output_type": "stream",
     "text": [
      "156169\n",
      "156169\n",
      "<class 'pandas.core.frame.DataFrame'>\n",
      "RangeIndex: 149905 entries, 0 to 149904\n",
      "Columns: 111 entries, index to have_create_seconds\n",
      "dtypes: float64(46), int64(64), object(1)\n",
      "memory usage: 126.9+ MB\n"
     ]
    }
   ],
   "source": [
    "print(train_set.shape[0])\n",
    "train_set.drop_duplicates(inplace=True)\n",
    "print(train_set.shape[0])#去重\n",
    "train_set=train_set[(train_set['hold_time']>10800)]#持续时间需要超过三个小时的样本\n",
    "# train_set=train_set[(train_set['audience_orientation_nums']>0)]#定向人群数量为0的是有问题的\n",
    "train_set.reset_index(inplace=True)\n",
    "train_set.info()"
   ]
  },
  {
   "cell_type": "code",
   "execution_count": null,
   "metadata": {},
   "outputs": [],
   "source": []
  },
  {
   "cell_type": "code",
   "execution_count": null,
   "metadata": {},
   "outputs": [],
   "source": []
  },
  {
   "cell_type": "code",
   "execution_count": null,
   "metadata": {},
   "outputs": [],
   "source": []
  },
  {
   "cell_type": "code",
   "execution_count": 15,
   "metadata": {},
   "outputs": [],
   "source": [
    "ad_sample_test=pd.read_csv('../Data/A_preliminary_generate/Test/ad_sample_feature1phase_test.csv')"
   ]
  },
  {
   "cell_type": "code",
   "execution_count": 16,
   "metadata": {},
   "outputs": [
    {
     "name": "stderr",
     "output_type": "stream",
     "text": [
      "/home/zhangyier/anaconda3/lib/python3.6/site-packages/ipykernel_launcher.py:5: SettingWithCopyWarning: \n",
      "A value is trying to be set on a copy of a slice from a DataFrame\n",
      "\n",
      "See the caveats in the documentation: http://pandas.pydata.org/pandas-docs/stable/indexing.html#indexing-view-versus-copy\n",
      "  \"\"\"\n",
      "/home/zhangyier/anaconda3/lib/python3.6/site-packages/ipykernel_launcher.py:11: SettingWithCopyWarning: \n",
      "A value is trying to be set on a copy of a slice from a DataFrame\n",
      "\n",
      "See the caveats in the documentation: http://pandas.pydata.org/pandas-docs/stable/indexing.html#indexing-view-versus-copy\n",
      "  # This is added back by InteractiveShellApp.init_path()\n"
     ]
    }
   ],
   "source": [
    "ad_sample_test['have_create_seconds']=0\n",
    "\n",
    "ad_sample_test['have_create_seconds'][\n",
    "    ad_sample_test['create_time']<=datetime2SecondsFrom1970_s('20190319235959')]=datetime2SecondsFrom1970_s('20190320235959')-ad_sample_test['create_time'][ad_sample_test['create_time']\n",
    "                                                                                                                                                 <=datetime2SecondsFrom1970_s('20190319235959')]\n",
    "#预测3月20日周三\n",
    "\n",
    "ad_sample_test['have_create_seconds'][(ad_sample_test['create_time']>datetime2SecondsFrom1970_s('20190319235959'))&\n",
    "(ad_sample_test['create_time']<=datetime2SecondsFrom1970_s('20190320235959'))]=datetime2SecondsFrom1970_s('20190321235959')-ad_sample_test['create_time'][\n",
    "(ad_sample_test['create_time']>datetime2SecondsFrom1970_s('20190319235959'))&\n",
    "(ad_sample_test['create_time']<=datetime2SecondsFrom1970_s('20190320235959'))]\n",
    "#3月21日周四\n",
    "\n",
    "ad_sample_test['have_create_seconds'][(ad_sample_test['create_time']>datetime2SecondsFrom1970_s('20190320235959'))&\n",
    "(ad_sample_test['create_time']<=datetime2SecondsFrom1970_s('20190321235959'))]=datetime2SecondsFrom1970_s('20190322235959')-ad_sample_test['create_time'][\n",
    "(ad_sample_test['create_time']>datetime2SecondsFrom1970_s('20190320235959'))&\n",
    "(ad_sample_test['create_time']<=datetime2SecondsFrom1970_s('20190321235959'))]\n",
    "#3月22日周五\n",
    "\n",
    "ad_sample_test['have_create_seconds'][(ad_sample_test['create_time']>datetime2SecondsFrom1970_s('20190321235959'))&\n",
    "(ad_sample_test['create_time']<=datetime2SecondsFrom1970_s('20190322235959'))]=datetime2SecondsFrom1970_s('20190323235959')-ad_sample_test['create_time'][\n",
    "(ad_sample_test['create_time']>datetime2SecondsFrom1970_s('20190321235959'))&\n",
    "(ad_sample_test['create_time']<=datetime2SecondsFrom1970_s('20190322235959'))]\n",
    "#3月23日周六\n",
    "\n",
    "ad_sample_test['have_create_seconds'][(ad_sample_test['create_time']>datetime2SecondsFrom1970_s('20190322235959'))&\n",
    "(ad_sample_test['create_time']<=datetime2SecondsFrom1970_s('20190323235959'))]=datetime2SecondsFrom1970_s('20190324235959')-ad_sample_test['create_time'][\n",
    "(ad_sample_test['create_time']>datetime2SecondsFrom1970_s('20190322235959'))&\n",
    "(ad_sample_test['create_time']<=datetime2SecondsFrom1970_s('20190323235959'))]\n",
    "#3月24日周日\n",
    "\n",
    "ad_sample_test['have_create_seconds'][(ad_sample_test['create_time']>datetime2SecondsFrom1970_s('20190323235959'))&\n",
    "(ad_sample_test['create_time']<=datetime2SecondsFrom1970_s('20190324235959'))]=datetime2SecondsFrom1970_s('20190325235959')-ad_sample_test['create_time'][\n",
    "(ad_sample_test['create_time']>datetime2SecondsFrom1970_s('20190323235959'))&\n",
    "(ad_sample_test['create_time']<=datetime2SecondsFrom1970_s('20190324235959'))]\n",
    "#3月25日周一\n"
   ]
  },
  {
   "cell_type": "code",
   "execution_count": 17,
   "metadata": {},
   "outputs": [],
   "source": [
    "columns_list=[\n",
    "# 'ad_id','audience_targeting','end_time','ad_account_id','commodity_id','commodity_type','ad_trades_id','ad_size','hold_time',\n",
    "#  'create_time','sample_id', 'exposure_ad_id',\n",
    " 'bid','audience_orientation_nums','0000_0030','0030_0100','0100_0130','0130_0200','0200_0230','0230_0300','0300_0330',\n",
    "'0330_0400','0400_0430','0430_0500','0500_0530','0530_0600','0600_0630','0630_0700','0700_0730','0730_0800','0800_0830','0830_0900',\n",
    "'0900_0930','0930_1000','1000_1030','1030_1100','1100_1130','1130_1200','1200_1230','1230_1300','1300_1330','1330_1400','1400_1430','1430_1500',\n",
    "'1500_1530','1530_1600','1600_1630','1630_1700','1700_1730','1730_1800','1800_1830','1830_1900','1900_1930','1930_2000','2000_2030','2030_2100',\n",
    "'2100_2130','2130_2200','2200_2230','2230_2300','2300_2330','2330_2400',\n",
    "'ad_id_history_exposure_times','ad_id_bid_mean','ad_id_bid_var','ad_id_pctr_mean','ad_id_pctr_var','ad_id_quality_ecpm_mean',\n",
    "'ad_id_quality_ecpm_var','ad_id_total_ecpm_mean','ad_id_total_ecpm_var', \n",
    "'account_id_history_exposure_times','account_id_bid_mean','account_id_bid_var','account_id_pctr_mean','account_id_pctr_var',\n",
    "'account_id_quality_ecpm_mean','account_id_quality_ecpm_var','account_id_total_ecpm_mean','account_id_total_ecpm_var',\n",
    "'commodity_id_history_exposure_times','commodity_id_bid_mean','commodity_id_bid_var','commodity_id_pctr_mean','commodity_id_pctr_var',\n",
    "'commodity_id_quality_ecpm_mean','commodity_id_quality_ecpm_var','commodity_id_total_ecpm_mean','commodity_id_total_ecpm_var',\n",
    "'commodity_type_history_exposure_times','commodity_type_bid_mean','commodity_type_bid_var','commodity_type_pctr_mean',\n",
    "'commodity_type_pctr_var','commodity_type_quality_ecpm_mean','commodity_type_quality_ecpm_var','commodity_type_total_ecpm_mean',\n",
    "'commodity_type_total_ecpm_var',\n",
    "'trades_id_history_exposure_times','trades_id_bid_mean','trades_id_bid_var','trades_id_pctr_mean','trades_id_pctr_var',\n",
    "'trades_id_quality_ecpm_mean','trades_id_quality_ecpm_var','trades_id_total_ecpm_mean','trades_id_total_ecpm_var',\n",
    "'week_day','have_create_seconds']\n",
    "\n",
    "label=train_set['exposure_times']\n",
    "train=train_set[columns_list]\n",
    "test=ad_sample_test[columns_list]\n",
    "\n",
    "train_array=train.values\n",
    "label_array=label.values\n",
    "test_array=test.values"
   ]
  },
  {
   "cell_type": "code",
   "execution_count": 94,
   "metadata": {},
   "outputs": [],
   "source": []
  },
  {
   "cell_type": "code",
   "execution_count": 95,
   "metadata": {},
   "outputs": [],
   "source": []
  },
  {
   "cell_type": "code",
   "execution_count": 96,
   "metadata": {},
   "outputs": [],
   "source": [
    "# X_train, X_test, y_train, y_test = train_test_split(train, label, test_size=0.05, random_state=42)\n",
    "# train_array=X_train\n",
    "# label_array=y_train"
   ]
  },
  {
   "cell_type": "code",
   "execution_count": 18,
   "metadata": {},
   "outputs": [
    {
     "name": "stderr",
     "output_type": "stream",
     "text": [
      "/home/zhangyier/anaconda3/lib/python3.6/site-packages/sklearn/cross_validation.py:41: DeprecationWarning: This module was deprecated in version 0.18 in favor of the model_selection module into which all the refactored classes and functions are moved. Also note that the interface of the new CV iterators are different from that of this module. This module will be removed in 0.20.\n",
      "  \"This module will be removed in 0.20.\", DeprecationWarning)\n"
     ]
    }
   ],
   "source": [
    "from sklearn import preprocessing\n",
    "from sklearn.model_selection import KFold, RepeatedKFold\n",
    "import xgboost as xgb\n",
    "from sklearn.metrics import mean_squared_error\n",
    "from sklearn.cross_validation import train_test_split"
   ]
  },
  {
   "cell_type": "code",
   "execution_count": 19,
   "metadata": {},
   "outputs": [
    {
     "name": "stdout",
     "output_type": "stream",
     "text": [
      "fold n°1\n",
      "[0]\ttrain-rmse:106.955\tvalid_data-rmse:76.3581\n",
      "Multiple eval metrics have been passed: 'valid_data-rmse' will be used for early stopping.\n",
      "\n",
      "Will train until valid_data-rmse hasn't improved in 200 rounds.\n",
      "[100]\ttrain-rmse:78.9764\tvalid_data-rmse:57.7507\n",
      "[200]\ttrain-rmse:60.3338\tvalid_data-rmse:47.9309\n",
      "[300]\ttrain-rmse:46.9179\tvalid_data-rmse:41.9399\n",
      "[400]\ttrain-rmse:37.0993\tvalid_data-rmse:38.6484\n",
      "[500]\ttrain-rmse:29.7971\tvalid_data-rmse:36.8503\n",
      "[600]\ttrain-rmse:24.6831\tvalid_data-rmse:35.9483\n",
      "[700]\ttrain-rmse:20.757\tvalid_data-rmse:35.5506\n",
      "[800]\ttrain-rmse:17.8678\tvalid_data-rmse:35.4175\n",
      "[900]\ttrain-rmse:15.6203\tvalid_data-rmse:35.3332\n",
      "[1000]\ttrain-rmse:13.9921\tvalid_data-rmse:35.3502\n",
      "[1100]\ttrain-rmse:12.7753\tvalid_data-rmse:35.3718\n",
      "Stopping. Best iteration:\n",
      "[911]\ttrain-rmse:15.4178\tvalid_data-rmse:35.3212\n",
      "\n",
      "fold n°2\n",
      "[0]\ttrain-rmse:107.644\tvalid_data-rmse:72.2095\n",
      "Multiple eval metrics have been passed: 'valid_data-rmse' will be used for early stopping.\n",
      "\n",
      "Will train until valid_data-rmse hasn't improved in 200 rounds.\n",
      "[100]\ttrain-rmse:79.0815\tvalid_data-rmse:55.523\n",
      "[200]\ttrain-rmse:60.1514\tvalid_data-rmse:45.8579\n",
      "[300]\ttrain-rmse:46.2149\tvalid_data-rmse:40.2357\n",
      "[400]\ttrain-rmse:36.5826\tvalid_data-rmse:37.0923\n",
      "[500]\ttrain-rmse:29.3707\tvalid_data-rmse:35.4319\n",
      "[600]\ttrain-rmse:24.1383\tvalid_data-rmse:34.5561\n",
      "[700]\ttrain-rmse:20.3949\tvalid_data-rmse:34.3388\n",
      "[800]\ttrain-rmse:17.5256\tvalid_data-rmse:34.2979\n",
      "[900]\ttrain-rmse:15.4462\tvalid_data-rmse:34.2686\n",
      "[1000]\ttrain-rmse:13.8423\tvalid_data-rmse:34.2619\n",
      "[1100]\ttrain-rmse:12.66\tvalid_data-rmse:34.3003\n",
      "Stopping. Best iteration:\n",
      "[981]\ttrain-rmse:14.096\tvalid_data-rmse:34.2379\n",
      "\n",
      "fold n°3\n",
      "[0]\ttrain-rmse:88.1793\tvalid_data-rmse:143.414\n",
      "Multiple eval metrics have been passed: 'valid_data-rmse' will be used for early stopping.\n",
      "\n",
      "Will train until valid_data-rmse hasn't improved in 200 rounds.\n",
      "[100]\ttrain-rmse:62.9472\tvalid_data-rmse:132.837\n",
      "[200]\ttrain-rmse:46.545\tvalid_data-rmse:127.428\n",
      "[300]\ttrain-rmse:35.3434\tvalid_data-rmse:123.446\n",
      "[400]\ttrain-rmse:27.9436\tvalid_data-rmse:121.016\n",
      "[500]\ttrain-rmse:22.7717\tvalid_data-rmse:119.428\n",
      "[600]\ttrain-rmse:19.0777\tvalid_data-rmse:118.387\n",
      "[700]\ttrain-rmse:16.3628\tvalid_data-rmse:117.469\n",
      "[800]\ttrain-rmse:14.3966\tvalid_data-rmse:117.063\n",
      "[900]\ttrain-rmse:12.9083\tvalid_data-rmse:116.738\n",
      "[1000]\ttrain-rmse:11.838\tvalid_data-rmse:116.644\n",
      "[1100]\ttrain-rmse:11.0719\tvalid_data-rmse:116.567\n",
      "[1200]\ttrain-rmse:10.4684\tvalid_data-rmse:116.535\n",
      "[1300]\ttrain-rmse:10.0087\tvalid_data-rmse:116.56\n",
      "[1400]\ttrain-rmse:9.65994\tvalid_data-rmse:116.572\n",
      "Stopping. Best iteration:\n",
      "[1234]\ttrain-rmse:10.3062\tvalid_data-rmse:116.512\n",
      "\n",
      "fold n°4\n",
      "[0]\ttrain-rmse:109.11\tvalid_data-rmse:63.0197\n",
      "Multiple eval metrics have been passed: 'valid_data-rmse' will be used for early stopping.\n",
      "\n",
      "Will train until valid_data-rmse hasn't improved in 200 rounds.\n",
      "[100]\ttrain-rmse:79.4649\tvalid_data-rmse:51.5478\n",
      "[200]\ttrain-rmse:59.649\tvalid_data-rmse:53.6975\n",
      "[300]\ttrain-rmse:45.5223\tvalid_data-rmse:60.7057\n",
      "Stopping. Best iteration:\n",
      "[133]\ttrain-rmse:72.4302\tvalid_data-rmse:51.0448\n",
      "\n",
      "fold n°5\n",
      "[0]\ttrain-rmse:94.1838\tvalid_data-rmse:127.001\n",
      "Multiple eval metrics have been passed: 'valid_data-rmse' will be used for early stopping.\n",
      "\n",
      "Will train until valid_data-rmse hasn't improved in 200 rounds.\n",
      "[100]\ttrain-rmse:70.0102\tvalid_data-rmse:107.471\n",
      "[200]\ttrain-rmse:53.2653\tvalid_data-rmse:97.3963\n",
      "[300]\ttrain-rmse:41.0896\tvalid_data-rmse:91.6985\n",
      "[400]\ttrain-rmse:32.4915\tvalid_data-rmse:88.157\n",
      "[500]\ttrain-rmse:26.3091\tvalid_data-rmse:86.0859\n",
      "[600]\ttrain-rmse:21.6711\tvalid_data-rmse:84.679\n",
      "[700]\ttrain-rmse:18.1847\tvalid_data-rmse:83.9028\n",
      "[800]\ttrain-rmse:15.7792\tvalid_data-rmse:83.4785\n",
      "[900]\ttrain-rmse:13.9044\tvalid_data-rmse:83.2706\n",
      "[1000]\ttrain-rmse:12.5542\tvalid_data-rmse:83.1174\n",
      "[1100]\ttrain-rmse:11.5566\tvalid_data-rmse:83.0198\n",
      "[1200]\ttrain-rmse:10.8047\tvalid_data-rmse:82.9515\n",
      "[1300]\ttrain-rmse:10.2852\tvalid_data-rmse:82.9256\n",
      "[1400]\ttrain-rmse:9.89103\tvalid_data-rmse:82.9358\n",
      "[1500]\ttrain-rmse:9.55986\tvalid_data-rmse:82.9257\n",
      "Stopping. Best iteration:\n",
      "[1339]\ttrain-rmse:10.1229\tvalid_data-rmse:82.9215\n",
      "\n",
      "CV score: 5095.28011328\n"
     ]
    }
   ],
   "source": [
    "xgb_params = {'eta': 0.005, 'max_depth': 10, 'subsample': 0.8, 'colsample_bytree': 0.8,\n",
    "          'objective': 'reg:linear', 'eval_metric': 'rmse', 'silent': True, 'nthread': 10}\n",
    "folds = KFold(n_splits=5, shuffle=True, random_state=2019)\n",
    "oof_xgb = np.zeros(len(train_array))\n",
    "predictions_xgb = np.zeros(len(test_array))\n",
    "for fold_, (trn_idx, val_idx) in enumerate(folds.split(train_array, label_array)):\n",
    "    print(\"fold n°{}\".format(fold_ + 1))\n",
    "    trn_data = xgb.DMatrix(train_array[trn_idx], label_array[trn_idx])\n",
    "    val_data = xgb.DMatrix(train_array[val_idx], label_array[val_idx])\n",
    "\n",
    "    watchlist = [(trn_data, 'train'), (val_data, 'valid_data')]\n",
    "    clf = xgb.train(dtrain=trn_data, num_boost_round=20000, evals=watchlist, early_stopping_rounds=200,\n",
    "                    verbose_eval=100, params=xgb_params)\n",
    "    oof_xgb[val_idx] = clf.predict(xgb.DMatrix(train_array[val_idx]), ntree_limit=clf.best_ntree_limit)\n",
    "    predictions_xgb += clf.predict(xgb.DMatrix(test_array), ntree_limit=clf.best_ntree_limit) / folds.n_splits\n",
    "\n",
    "print(\"CV score: {:<8.8f}\".format(mean_squared_error(oof_xgb, label_array)))"
   ]
  },
  {
   "cell_type": "code",
   "execution_count": 20,
   "metadata": {
    "scrolled": true
   },
   "outputs": [
    {
     "name": "stdout",
     "output_type": "stream",
     "text": [
      "   sample_id   ad_id  create_time  ad_size  ad_trades_id  commodity_type  \\\n",
      "0          1  394352   1529648412       34            84              13   \n",
      "1          2  585401   1553076190       40           221               1   \n",
      "2          3  419408   1553031394       30           122              13   \n",
      "3          4  405326   1553238836       64           136               1   \n",
      "4          5  578942   1541191585       34            12              13   \n",
      "\n",
      "   commodity_id  ad_account_id  \\\n",
      "0         29663          26657   \n",
      "1            -1           6262   \n",
      "2         32110          17436   \n",
      "3            -1          22359   \n",
      "4          6372          24082   \n",
      "\n",
      "                                         when_ad_put  \\\n",
      "0  281474976645120,281474976645120,28147497664512...   \n",
      "1  281474976579587,281474976579587,28147497657958...   \n",
      "2  17592185782272,17592185782272,17592185782272,1...   \n",
      "3  281474976694272,281474976694272,28147497669427...   \n",
      "4  68719214592,68719214592,68719214592,6871921459...   \n",
      "\n",
      "                                  audience_targeting  bid  \n",
      "0  age:819,608,988,741,202,837,400,394,942,361,72...  120  \n",
      "1  age:819,433,479,741,229,347,522,79,753,601|edu...   42  \n",
      "2                                                all    6  \n",
      "3  age:333,1|gender:2|area:11505,1874,3790,4566,5...  181  \n",
      "4  age:819,608,988,741,202,837,400,394,942,361,72...   31  \n",
      "how many ad_id exposure less 1 times :\n",
      "850\n",
      "Monotonic !!!\n"
     ]
    },
    {
     "name": "stderr",
     "output_type": "stream",
     "text": [
      "/home/zhangyier/anaconda3/lib/python3.6/site-packages/ipykernel_launcher.py:9: SettingWithCopyWarning: \n",
      "A value is trying to be set on a copy of a slice from a DataFrame.\n",
      "Try using .loc[row_indexer,col_indexer] = value instead\n",
      "\n",
      "See the caveats in the documentation: http://pandas.pydata.org/pandas-docs/stable/indexing.html#indexing-view-versus-copy\n",
      "  if __name__ == '__main__':\n"
     ]
    }
   ],
   "source": [
    "test_sample=pd.read_csv(\"../Data/A_preliminary/testA/test_sample.dat\",header=None,sep='\\t',\n",
    "                        names=['sample_id','ad_id','create_time','ad_size','ad_trades_id','commodity_type','commodity_id','ad_account_id',\n",
    "                              'when_ad_put','audience_targeting','bid'])\n",
    "submission=test_sample[['sample_id','ad_id','bid']]\n",
    "submission.insert(submission.shape[1], 'predict_exposure', predictions_xgb)\n",
    "# submission.insert(submission.shape[1], 'predict_exposure', predictions_lgb)\n",
    "\n",
    "submission['predict_exposure']=submission['predict_exposure'].apply(lambda x : round(x,4))\n",
    "ad_id_exposure_predic=submission.groupby(['ad_id'])['predict_exposure'].aggregate(['mean','max','min']).reset_index()\n",
    "ad_id_dict={}\n",
    "for ad_id,mean,min_,max_ in zip(ad_id_exposure_predic['ad_id'],ad_id_exposure_predic['mean'],ad_id_exposure_predic['min'],ad_id_exposure_predic['max']):\n",
    "#     ad_id_dict[ad_id]=mean-(max_-min_)/8\n",
    "    ad_id_dict[ad_id]=mean\n",
    "#     ad_id_dict[ad_id]=max_\n",
    "\n",
    "\n",
    "print('how many ad_id exposure less 1 times :')\n",
    "nums=0\n",
    "for _ in ad_id_dict.values():\n",
    "    if _ < 1:\n",
    "        nums+=1\n",
    "print(nums)\n",
    "\n",
    "print('Monotonic !!!')\n",
    "ad_id_explosure_df=pd.DataFrame({\"ad_id\":list(ad_id_dict.keys()),\"explosion_init\":list(ad_id_dict.values())})\n",
    "submission_csv=test_sample[['sample_id','ad_id','bid']][:]\n",
    "submission_csv=submission_csv.merge(ad_id_explosure_df,on='ad_id',how='outer')\n",
    "submission_csv['explosion']=submission_csv['explosion_init']+submission_csv['bid']/1000\n",
    "submission_csv['explosion']=submission_csv['explosion'].apply(lambda x:round(x,4))\n",
    "# submission_csv[['sample_id','explosion']].to_csv('submission.csv',header=None,index=None,encoding='utf-8')"
   ]
  },
  {
   "cell_type": "code",
   "execution_count": 21,
   "metadata": {},
   "outputs": [
    {
     "data": {
      "text/plain": [
       "19.885736520453428"
      ]
     },
     "execution_count": 21,
     "metadata": {},
     "output_type": "execute_result"
    }
   ],
   "source": [
    "submission_csv['explosion'].mean()"
   ]
  },
  {
   "cell_type": "code",
   "execution_count": 22,
   "metadata": {},
   "outputs": [],
   "source": [
    "submission_csv[['sample_id','explosion']].to_csv('submission.csv',header=None,index=None,encoding='utf-8')"
   ]
  },
  {
   "cell_type": "code",
   "execution_count": null,
   "metadata": {},
   "outputs": [],
   "source": []
  },
  {
   "cell_type": "code",
   "execution_count": null,
   "metadata": {},
   "outputs": [],
   "source": []
  },
  {
   "cell_type": "code",
   "execution_count": null,
   "metadata": {},
   "outputs": [],
   "source": []
  },
  {
   "cell_type": "code",
   "execution_count": null,
   "metadata": {},
   "outputs": [],
   "source": []
  },
  {
   "cell_type": "code",
   "execution_count": null,
   "metadata": {},
   "outputs": [],
   "source": []
  },
  {
   "cell_type": "code",
   "execution_count": null,
   "metadata": {},
   "outputs": [],
   "source": []
  }
 ],
 "metadata": {
  "kernelspec": {
   "display_name": "Python 3",
   "language": "python",
   "name": "python3"
  },
  "language_info": {
   "codemirror_mode": {
    "name": "ipython",
    "version": 3
   },
   "file_extension": ".py",
   "mimetype": "text/x-python",
   "name": "python",
   "nbconvert_exporter": "python",
   "pygments_lexer": "ipython3",
   "version": "3.6.5"
  }
 },
 "nbformat": 4,
 "nbformat_minor": 2
}
